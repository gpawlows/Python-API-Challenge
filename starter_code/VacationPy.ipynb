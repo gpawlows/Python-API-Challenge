{
 "cells": [
  {
   "cell_type": "markdown",
   "metadata": {},
   "source": [
    "# VacationPy\n",
    "----\n",
    "\n",
    "#### Note\n",
    "* Keep an eye on your API usage. Use https://developers.google.com/maps/reporting/gmp-reporting as reference for how to monitor your usage and billing.\n",
    "\n",
    "* Instructions have been included for each segment. You do not have to follow them exactly, but they are included to help you think through the steps."
   ]
  },
  {
   "cell_type": "code",
   "execution_count": 1,
   "metadata": {},
   "outputs": [],
   "source": [
    "# Dependencies and Setup\n",
    "import matplotlib.pyplot as plt\n",
    "import pandas as pd\n",
    "import numpy as np\n",
    "import requests\n",
    "import gmaps\n",
    "import os\n",
    "import csv\n",
    "\n",
    "# Import API key\n",
    "from api_keys import g_key"
   ]
  },
  {
   "cell_type": "markdown",
   "metadata": {},
   "source": [
    "### Store Part I results into DataFrame\n",
    "* Load the csv exported in Part I to a DataFrame"
   ]
  },
  {
   "cell_type": "code",
   "execution_count": 2,
   "metadata": {},
   "outputs": [
    {
     "output_type": "execute_result",
     "data": {
      "text/plain": [
       "         City     lats      lngs  Max Temp  Humidity  Cloudiness  Wind Speed  \\\n",
       "0      castro -24.7911  -50.0119     61.52        68          47        8.68   \n",
       "1  santa rosa  14.3122  121.1114     80.58        86         100        4.45   \n",
       "2      barrow  71.2906 -156.7887     44.62        76           1        6.91   \n",
       "3    ulaangom  49.9811   92.0667     54.68        50          27        6.46   \n",
       "4       enshi  30.3000  109.4833     69.12        86          35        0.76   \n",
       "\n",
       "  Country        Date  \n",
       "0      BR  1624470078  \n",
       "1      PH  1624469545  \n",
       "2      US  1624470001  \n",
       "3      MN  1624470078  \n",
       "4      CN  1624470079  "
      ],
      "text/html": "<div>\n<style scoped>\n    .dataframe tbody tr th:only-of-type {\n        vertical-align: middle;\n    }\n\n    .dataframe tbody tr th {\n        vertical-align: top;\n    }\n\n    .dataframe thead th {\n        text-align: right;\n    }\n</style>\n<table border=\"1\" class=\"dataframe\">\n  <thead>\n    <tr style=\"text-align: right;\">\n      <th></th>\n      <th>City</th>\n      <th>lats</th>\n      <th>lngs</th>\n      <th>Max Temp</th>\n      <th>Humidity</th>\n      <th>Cloudiness</th>\n      <th>Wind Speed</th>\n      <th>Country</th>\n      <th>Date</th>\n    </tr>\n  </thead>\n  <tbody>\n    <tr>\n      <th>0</th>\n      <td>castro</td>\n      <td>-24.7911</td>\n      <td>-50.0119</td>\n      <td>61.52</td>\n      <td>68</td>\n      <td>47</td>\n      <td>8.68</td>\n      <td>BR</td>\n      <td>1624470078</td>\n    </tr>\n    <tr>\n      <th>1</th>\n      <td>santa rosa</td>\n      <td>14.3122</td>\n      <td>121.1114</td>\n      <td>80.58</td>\n      <td>86</td>\n      <td>100</td>\n      <td>4.45</td>\n      <td>PH</td>\n      <td>1624469545</td>\n    </tr>\n    <tr>\n      <th>2</th>\n      <td>barrow</td>\n      <td>71.2906</td>\n      <td>-156.7887</td>\n      <td>44.62</td>\n      <td>76</td>\n      <td>1</td>\n      <td>6.91</td>\n      <td>US</td>\n      <td>1624470001</td>\n    </tr>\n    <tr>\n      <th>3</th>\n      <td>ulaangom</td>\n      <td>49.9811</td>\n      <td>92.0667</td>\n      <td>54.68</td>\n      <td>50</td>\n      <td>27</td>\n      <td>6.46</td>\n      <td>MN</td>\n      <td>1624470078</td>\n    </tr>\n    <tr>\n      <th>4</th>\n      <td>enshi</td>\n      <td>30.3000</td>\n      <td>109.4833</td>\n      <td>69.12</td>\n      <td>86</td>\n      <td>35</td>\n      <td>0.76</td>\n      <td>CN</td>\n      <td>1624470079</td>\n    </tr>\n  </tbody>\n</table>\n</div>"
     },
     "metadata": {},
     "execution_count": 2
    }
   ],
   "source": [
    "cities_pd = pd.read_csv(\"../output_data/hw_cities_output.csv\")\n",
    "cities_pd.head()\n"
   ]
  },
  {
   "cell_type": "markdown",
   "metadata": {},
   "source": [
    "### Humidity Heatmap\n",
    "* Configure gmaps.\n",
    "* Use the Lat and Lng as locations and Humidity as the weight.\n",
    "* Add Heatmap layer to map."
   ]
  },
  {
   "cell_type": "code",
   "execution_count": 3,
   "metadata": {},
   "outputs": [
    {
     "output_type": "display_data",
     "data": {
      "text/plain": "Figure(layout=FigureLayout(border='1px solid black', height='500px', margin='0 auto 0 auto', padding='1px', wi…",
      "application/vnd.jupyter.widget-view+json": {
       "version_major": 2,
       "version_minor": 0,
       "model_id": "3f9ec928c53d4c0d91a110755bebfb0d"
      }
     },
     "metadata": {}
    }
   ],
   "source": [
    "figure_layout ={\n",
    "    'width': '1200px',\n",
    "    'height': '500px',\n",
    "        'border': '1px solid black',\n",
    "    'padding': '1px',\n",
    "    'margin': '0 auto 0 auto'\n",
    "}\n",
    "fig = gmaps.figure(layout=figure_layout)\n",
    "\n",
    "locations = cities_pd[['lats','lngs']]\n",
    "rating = cities_pd['Humidity'].astype(float)\n",
    "heat_layer = gmaps.heatmap_layer(locations, weights=rating,\n",
    "                                 dissipating=False, max_intensity=0,\n",
    "                                 point_radius=5)\n",
    "fig.add_layer(heat_layer)\n",
    "fig\n"
   ]
  },
  {
   "cell_type": "code",
   "execution_count": null,
   "metadata": {},
   "outputs": [],
   "source": []
  },
  {
   "cell_type": "markdown",
   "metadata": {},
   "source": [
    "### Create new DataFrame fitting weather criteria\n",
    "* Narrow down the cities to fit weather conditions.\n",
    "* Drop any rows will null values."
   ]
  },
  {
   "cell_type": "code",
   "execution_count": 7,
   "metadata": {},
   "outputs": [
    {
     "output_type": "execute_result",
     "data": {
      "text/plain": [
       "                         City     lats      lngs  Max Temp  Humidity  \\\n",
       "20                 campoverde  -8.4753  -74.8058     85.69        43   \n",
       "34                    lagunas  -5.2269  -75.6753     88.84        52   \n",
       "80                  hithadhoo  -0.6000   73.0833     82.60        71   \n",
       "94                    kavieng  -2.5744  150.7967     81.59        79   \n",
       "146                      tual  -5.6667  132.7500     81.46        76   \n",
       "205                    faanui -16.4833 -151.7500     80.15        75   \n",
       "212                maracacume  -2.0428  -45.9592     85.91        62   \n",
       "241                     soure  -0.7167  -48.5233     83.17        69   \n",
       "269  sao gabriel da cachoeira  -0.1303  -67.0892     84.00        70   \n",
       "312                   aquiraz  -3.9014  -38.3911     86.09        67   \n",
       "389                  denpasar  -8.6500  115.2167     80.26        94   \n",
       "450                  lorengau  -2.0226  147.2712     80.78        78   \n",
       "471                  cabedelo  -6.9811  -34.8339     83.07        67   \n",
       "474              luis correia  -2.8792  -41.6669     86.00        70   \n",
       "484                carutapera  -1.1950  -46.0200     81.39        79   \n",
       "504                   pitimbu  -7.4706  -34.8086     82.99        65   \n",
       "512                 arcoverde  -8.4189  -37.0539     80.28        47   \n",
       "533                     posse -14.0931  -46.3694     87.13        22   \n",
       "546                    satipo -11.2522  -74.6386     87.04        46   \n",
       "\n",
       "     Cloudiness  Wind Speed Country        Date  \n",
       "20           76        1.41      PE  1624470084  \n",
       "34            9        1.12      PE  1624470089  \n",
       "80           69        9.55      MV  1624470105  \n",
       "94           49        9.17      PG  1624470109  \n",
       "146          32        6.24      ID  1624470127  \n",
       "205          16       12.10      PF  1624470148  \n",
       "212          24        3.60      BR  1624470151  \n",
       "241          18        6.55      BR  1624470161  \n",
       "269          40        4.61      BR  1624470171  \n",
       "312          33        8.70      BR  1624470185  \n",
       "389          75       10.36      ID  1624469979  \n",
       "450          68        3.42      PG  1624470235  \n",
       "471           8       14.61      BR  1624470242  \n",
       "474          20        9.22      BR  1624470243  \n",
       "484          73        5.77      BR  1624470247  \n",
       "504          55       14.38      BR  1624470254  \n",
       "512          70        9.66      BR  1624470257  \n",
       "533           0        8.34      BR  1624470264  \n",
       "546          47        2.68      PE  1624470269  "
      ],
      "text/html": "<div>\n<style scoped>\n    .dataframe tbody tr th:only-of-type {\n        vertical-align: middle;\n    }\n\n    .dataframe tbody tr th {\n        vertical-align: top;\n    }\n\n    .dataframe thead th {\n        text-align: right;\n    }\n</style>\n<table border=\"1\" class=\"dataframe\">\n  <thead>\n    <tr style=\"text-align: right;\">\n      <th></th>\n      <th>City</th>\n      <th>lats</th>\n      <th>lngs</th>\n      <th>Max Temp</th>\n      <th>Humidity</th>\n      <th>Cloudiness</th>\n      <th>Wind Speed</th>\n      <th>Country</th>\n      <th>Date</th>\n    </tr>\n  </thead>\n  <tbody>\n    <tr>\n      <th>20</th>\n      <td>campoverde</td>\n      <td>-8.4753</td>\n      <td>-74.8058</td>\n      <td>85.69</td>\n      <td>43</td>\n      <td>76</td>\n      <td>1.41</td>\n      <td>PE</td>\n      <td>1624470084</td>\n    </tr>\n    <tr>\n      <th>34</th>\n      <td>lagunas</td>\n      <td>-5.2269</td>\n      <td>-75.6753</td>\n      <td>88.84</td>\n      <td>52</td>\n      <td>9</td>\n      <td>1.12</td>\n      <td>PE</td>\n      <td>1624470089</td>\n    </tr>\n    <tr>\n      <th>80</th>\n      <td>hithadhoo</td>\n      <td>-0.6000</td>\n      <td>73.0833</td>\n      <td>82.60</td>\n      <td>71</td>\n      <td>69</td>\n      <td>9.55</td>\n      <td>MV</td>\n      <td>1624470105</td>\n    </tr>\n    <tr>\n      <th>94</th>\n      <td>kavieng</td>\n      <td>-2.5744</td>\n      <td>150.7967</td>\n      <td>81.59</td>\n      <td>79</td>\n      <td>49</td>\n      <td>9.17</td>\n      <td>PG</td>\n      <td>1624470109</td>\n    </tr>\n    <tr>\n      <th>146</th>\n      <td>tual</td>\n      <td>-5.6667</td>\n      <td>132.7500</td>\n      <td>81.46</td>\n      <td>76</td>\n      <td>32</td>\n      <td>6.24</td>\n      <td>ID</td>\n      <td>1624470127</td>\n    </tr>\n    <tr>\n      <th>205</th>\n      <td>faanui</td>\n      <td>-16.4833</td>\n      <td>-151.7500</td>\n      <td>80.15</td>\n      <td>75</td>\n      <td>16</td>\n      <td>12.10</td>\n      <td>PF</td>\n      <td>1624470148</td>\n    </tr>\n    <tr>\n      <th>212</th>\n      <td>maracacume</td>\n      <td>-2.0428</td>\n      <td>-45.9592</td>\n      <td>85.91</td>\n      <td>62</td>\n      <td>24</td>\n      <td>3.60</td>\n      <td>BR</td>\n      <td>1624470151</td>\n    </tr>\n    <tr>\n      <th>241</th>\n      <td>soure</td>\n      <td>-0.7167</td>\n      <td>-48.5233</td>\n      <td>83.17</td>\n      <td>69</td>\n      <td>18</td>\n      <td>6.55</td>\n      <td>BR</td>\n      <td>1624470161</td>\n    </tr>\n    <tr>\n      <th>269</th>\n      <td>sao gabriel da cachoeira</td>\n      <td>-0.1303</td>\n      <td>-67.0892</td>\n      <td>84.00</td>\n      <td>70</td>\n      <td>40</td>\n      <td>4.61</td>\n      <td>BR</td>\n      <td>1624470171</td>\n    </tr>\n    <tr>\n      <th>312</th>\n      <td>aquiraz</td>\n      <td>-3.9014</td>\n      <td>-38.3911</td>\n      <td>86.09</td>\n      <td>67</td>\n      <td>33</td>\n      <td>8.70</td>\n      <td>BR</td>\n      <td>1624470185</td>\n    </tr>\n    <tr>\n      <th>389</th>\n      <td>denpasar</td>\n      <td>-8.6500</td>\n      <td>115.2167</td>\n      <td>80.26</td>\n      <td>94</td>\n      <td>75</td>\n      <td>10.36</td>\n      <td>ID</td>\n      <td>1624469979</td>\n    </tr>\n    <tr>\n      <th>450</th>\n      <td>lorengau</td>\n      <td>-2.0226</td>\n      <td>147.2712</td>\n      <td>80.78</td>\n      <td>78</td>\n      <td>68</td>\n      <td>3.42</td>\n      <td>PG</td>\n      <td>1624470235</td>\n    </tr>\n    <tr>\n      <th>471</th>\n      <td>cabedelo</td>\n      <td>-6.9811</td>\n      <td>-34.8339</td>\n      <td>83.07</td>\n      <td>67</td>\n      <td>8</td>\n      <td>14.61</td>\n      <td>BR</td>\n      <td>1624470242</td>\n    </tr>\n    <tr>\n      <th>474</th>\n      <td>luis correia</td>\n      <td>-2.8792</td>\n      <td>-41.6669</td>\n      <td>86.00</td>\n      <td>70</td>\n      <td>20</td>\n      <td>9.22</td>\n      <td>BR</td>\n      <td>1624470243</td>\n    </tr>\n    <tr>\n      <th>484</th>\n      <td>carutapera</td>\n      <td>-1.1950</td>\n      <td>-46.0200</td>\n      <td>81.39</td>\n      <td>79</td>\n      <td>73</td>\n      <td>5.77</td>\n      <td>BR</td>\n      <td>1624470247</td>\n    </tr>\n    <tr>\n      <th>504</th>\n      <td>pitimbu</td>\n      <td>-7.4706</td>\n      <td>-34.8086</td>\n      <td>82.99</td>\n      <td>65</td>\n      <td>55</td>\n      <td>14.38</td>\n      <td>BR</td>\n      <td>1624470254</td>\n    </tr>\n    <tr>\n      <th>512</th>\n      <td>arcoverde</td>\n      <td>-8.4189</td>\n      <td>-37.0539</td>\n      <td>80.28</td>\n      <td>47</td>\n      <td>70</td>\n      <td>9.66</td>\n      <td>BR</td>\n      <td>1624470257</td>\n    </tr>\n    <tr>\n      <th>533</th>\n      <td>posse</td>\n      <td>-14.0931</td>\n      <td>-46.3694</td>\n      <td>87.13</td>\n      <td>22</td>\n      <td>0</td>\n      <td>8.34</td>\n      <td>BR</td>\n      <td>1624470264</td>\n    </tr>\n    <tr>\n      <th>546</th>\n      <td>satipo</td>\n      <td>-11.2522</td>\n      <td>-74.6386</td>\n      <td>87.04</td>\n      <td>46</td>\n      <td>47</td>\n      <td>2.68</td>\n      <td>PE</td>\n      <td>1624470269</td>\n    </tr>\n  </tbody>\n</table>\n</div>"
     },
     "metadata": {},
     "execution_count": 7
    }
   ],
   "source": [
    "# My perfect Vacation\n",
    "# Countries in the Soutern Hemisphere, Temps between 80-90, Wind below 15\n",
    "Vacation_df = cities_pd.loc[(cities_pd['lats'] < 0) & (cities_pd['Wind Speed'] < 15) &\n",
    "                            (cities_pd['Max Temp'] > 80) & (cities_pd['Max Temp'] < 90),:]\n",
    "                           \n",
    "Vacation_df.count()\n",
    "Vacation_df.head(50)"
   ]
  },
  {
   "cell_type": "markdown",
   "metadata": {},
   "source": [
    "### Hotel Map\n",
    "* Store into variable named `hotel_df`.\n",
    "* Add a \"Hotel Name\" column to the DataFrame.\n",
    "* Set parameters to search for hotels with 5000 meters.\n",
    "* Hit the Google Places API for each city's coordinates.\n",
    "* Store the first Hotel result into the DataFrame.\n",
    "* Plot markers on top of the heatmap."
   ]
  },
  {
   "cell_type": "code",
   "execution_count": 54,
   "metadata": {},
   "outputs": [
    {
     "output_type": "stream",
     "name": "stderr",
     "text": [
      "C:\\Users\\GPSchool\\Anaconda3\\envs\\PythonData\\lib\\site-packages\\ipykernel_launcher.py:2: SettingWithCopyWarning: \n",
      "A value is trying to be set on a copy of a slice from a DataFrame.\n",
      "Try using .loc[row_indexer,col_indexer] = value instead\n",
      "\n",
      "See the caveats in the documentation: https://pandas.pydata.org/pandas-docs/stable/user_guide/indexing.html#returning-a-view-versus-a-copy\n",
      "  \n",
      "No hotels in this remote part of the world...\n",
      "No hotels in this remote part of the world...\n",
      "No hotels in this remote part of the world...\n",
      "No hotels in this remote part of the world...\n",
      "No hotels in this remote part of the world...\n",
      "No hotels in this remote part of the world...\n",
      "No hotels in this remote part of the world...\n",
      "No hotels in this remote part of the world...\n",
      "No hotels in this remote part of the world...\n",
      "No hotels in this remote part of the world...\n",
      "No hotels in this remote part of the world...\n",
      "No hotels in this remote part of the world...\n",
      "No hotels in this remote part of the world...\n",
      "No hotels in this remote part of the world...\n",
      "No hotels in this remote part of the world...\n",
      "No hotels in this remote part of the world...\n",
      "No hotels in this remote part of the world...\n",
      "No hotels in this remote part of the world...\n",
      "No hotels in this remote part of the world...\n",
      "No hotels in this remote part of the world...\n",
      "No hotels in this remote part of the world...\n",
      "No hotels in this remote part of the world...\n",
      "No hotels in this remote part of the world...\n",
      "No hotels in this remote part of the world...\n",
      "No hotels in this remote part of the world...\n",
      "No hotels in this remote part of the world...\n",
      "No hotels in this remote part of the world...\n",
      "No hotels in this remote part of the world...\n",
      "No hotels in this remote part of the world...\n",
      "No hotels in this remote part of the world...\n",
      "No hotels in this remote part of the world...\n",
      "No hotels in this remote part of the world...\n",
      "No hotels in this remote part of the world...\n",
      "No hotels in this remote part of the world...\n",
      "No hotels in this remote part of the world...\n",
      "No hotels in this remote part of the world...\n",
      "No hotels in this remote part of the world...\n",
      "No hotels in this remote part of the world...\n",
      "No hotels in this remote part of the world...\n",
      "No hotels in this remote part of the world...\n",
      "No hotels in this remote part of the world...\n",
      "No hotels in this remote part of the world...\n",
      "No hotels in this remote part of the world...\n",
      "No hotels in this remote part of the world...\n",
      "No hotels in this remote part of the world...\n",
      "No hotels in this remote part of the world...\n",
      "No hotels in this remote part of the world...\n",
      "No hotels in this remote part of the world...\n",
      "No hotels in this remote part of the world...\n",
      "No hotels in this remote part of the world...\n",
      "No hotels in this remote part of the world...\n",
      "No hotels in this remote part of the world...\n",
      "No hotels in this remote part of the world...\n",
      "No hotels in this remote part of the world...\n",
      "No hotels in this remote part of the world...\n",
      "No hotels in this remote part of the world...\n",
      "No hotels in this remote part of the world...\n",
      "No hotels in this remote part of the world...\n",
      "No hotels in this remote part of the world...\n",
      "No hotels in this remote part of the world...\n",
      "No hotels in this remote part of the world...\n",
      "No hotels in this remote part of the world...\n",
      "No hotels in this remote part of the world...\n",
      "No hotels in this remote part of the world...\n",
      "No hotels in this remote part of the world...\n",
      "No hotels in this remote part of the world...\n",
      "No hotels in this remote part of the world...\n",
      "No hotels in this remote part of the world...\n",
      "No hotels in this remote part of the world...\n",
      "No hotels in this remote part of the world...\n",
      "No hotels in this remote part of the world...\n",
      "No hotels in this remote part of the world...\n",
      "No hotels in this remote part of the world...\n",
      "No hotels in this remote part of the world...\n",
      "No hotels in this remote part of the world...\n",
      "No hotels in this remote part of the world...\n",
      "No hotels in this remote part of the world...\n",
      "No hotels in this remote part of the world...\n",
      "No hotels in this remote part of the world...\n",
      "No hotels in this remote part of the world...\n",
      "No hotels in this remote part of the world...\n",
      "No hotels in this remote part of the world...\n",
      "No hotels in this remote part of the world...\n",
      "No hotels in this remote part of the world...\n",
      "No hotels in this remote part of the world...\n",
      "No hotels in this remote part of the world...\n",
      "No hotels in this remote part of the world...\n",
      "No hotels in this remote part of the world...\n",
      "No hotels in this remote part of the world...\n",
      "No hotels in this remote part of the world...\n",
      "No hotels in this remote part of the world...\n",
      "No hotels in this remote part of the world...\n",
      "No hotels in this remote part of the world...\n",
      "No hotels in this remote part of the world...\n",
      "No hotels in this remote part of the world...\n"
     ]
    }
   ],
   "source": [
    "hotel_df = Vacation_df\n",
    "hotel_df['hotel name'] = pd.Series(dtype='str')\n",
    "hotel_df\n",
    "params= {\n",
    "    'radius': 5000\n",
    "    'types': 'hotel',\n",
    "    'key': g_key\n",
    "}\n",
    "\n",
    "for index, row in hotel_df.iterrows():\n",
    "    lat = row['lats']\n",
    "    lng = row['lngs']\n",
    "\n",
    "    params['location'] = f\"{lat},{lng}\"\n",
    "\n",
    "    base_url = \"https://maps.googleapis.com/maps/api/place/nearbysearch/json\"\n",
    "\n",
    "    name_address = requests.get(base_url, params=params)\n",
    "\n",
    "    name_address = name_address.json()\n",
    "\n",
    "    try:\n",
    "        hotel_df.loc[index, \"hotel name\"] = name_address['results'][0]['name']\n",
    "        hotel_df.loc[index, \"hotel name\"] = name_address['results'][0]['vicinity']\n",
    "        hotel_df.loc[index, \"hotel name\"] = name_address['results'][0]['rating']\n",
    "    except:\n",
    "        print(\"No hotels in this remote part of the world...\")\n"
   ]
  },
  {
   "cell_type": "code",
   "execution_count": null,
   "metadata": {},
   "outputs": [],
   "source": []
  },
  {
   "cell_type": "code",
   "execution_count": null,
   "metadata": {},
   "outputs": [],
   "source": [
    "# NOTE: Do not change any of the code in this cell\n",
    "\n",
    "# Using the template add the hotel marks to the heatmap\n",
    "info_box_template = \"\"\"\n",
    "<dl>\n",
    "<dt>Name</dt><dd>{Hotel Name}</dd>\n",
    "<dt>City</dt><dd>{City}</dd>\n",
    "<dt>Country</dt><dd>{Country}</dd>\n",
    "</dl>\n",
    "\"\"\"\n",
    "# Store the DataFrame Row\n",
    "# NOTE: be sure to update with your DataFrame name\n",
    "hotel_info = [info_box_template.format(**row) for index, row in hotel_df.iterrows()]\n",
    "locations = hotel_df[[\"Lat\", \"Lng\"]]"
   ]
  },
  {
   "cell_type": "code",
   "execution_count": null,
   "metadata": {},
   "outputs": [],
   "source": [
    "# Add marker layer ontop of heat map\n",
    "\n",
    "\n",
    "# Display figure\n"
   ]
  },
  {
   "cell_type": "code",
   "execution_count": null,
   "metadata": {},
   "outputs": [],
   "source": []
  }
 ],
 "metadata": {
  "kernelspec": {
   "name": "python3",
   "display_name": "Python 3.6.10 64-bit ('PythonData': conda)"
  },
  "language_info": {
   "codemirror_mode": {
    "name": "ipython",
    "version": 3
   },
   "file_extension": ".py",
   "mimetype": "text/x-python",
   "name": "python",
   "nbconvert_exporter": "python",
   "pygments_lexer": "ipython3",
   "version": "3.6.10"
  },
  "latex_envs": {
   "LaTeX_envs_menu_present": true,
   "autoclose": false,
   "autocomplete": true,
   "bibliofile": "biblio.bib",
   "cite_by": "apalike",
   "current_citInitial": 1,
   "eqLabelWithNumbers": true,
   "eqNumInitial": 1,
   "hotkeys": {
    "equation": "Ctrl-E",
    "itemize": "Ctrl-I"
   },
   "labels_anchors": false,
   "latex_user_defs": false,
   "report_style_numbering": false,
   "user_envs_cfg": false
  },
  "interpreter": {
   "hash": "2f3a706b34eb0ea9bbb028628723f5cd93895146db5a4b3f252e9288b7f6741a"
  }
 },
 "nbformat": 4,
 "nbformat_minor": 4
}